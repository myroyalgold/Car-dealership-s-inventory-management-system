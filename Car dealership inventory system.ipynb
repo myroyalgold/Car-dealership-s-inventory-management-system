{
 "cells": [
  {
   "cell_type": "markdown",
   "id": "9bedd035",
   "metadata": {},
   "source": [
    "Scenario: Car dealership's inventory management system\n",
    "You are working on a Python program to simulate a car dealership's inventory management system. The system aims to model cars and their attributes accurately."
   ]
  },
  {
   "cell_type": "code",
   "execution_count": 1,
   "id": "5507058c",
   "metadata": {},
   "outputs": [],
   "source": [
    "#Task-1. You are tasked with creating a Python program to represent vehicles using a class. Each car should have attributes for maximum speed and mileage.\n",
    "\n",
    "class Vehicle(object):\n",
    "    \n",
    "    #contructor\n",
    "    def _init_(self, max_speed, mileage):\n",
    "        self.max_speed = max_speed\n",
    "        self.milage = mileage"
   ]
  },
  {
   "cell_type": "code",
   "execution_count": 2,
   "id": "df404384",
   "metadata": {},
   "outputs": [],
   "source": [
    "#Task-2. Update the class with the default color for all vehicles,\" white\".\n",
    "class Vehicle(object):\n",
    "    color = \"White\"\n",
    "    \n",
    "    #onstructor\n",
    "    def _init(self, max_speed, mileage):\n",
    "        self.max_speed = max_speed\n",
    "        self.milege = mileage"
   ]
  },
  {
   "cell_type": "code",
   "execution_count": 3,
   "id": "4efe6d09",
   "metadata": {},
   "outputs": [],
   "source": [
    "#Task-3. Additionally, you need to create methods in the Vehicle class to assign seating capacity to a vehicle\n",
    "class Vehicle(object):\n",
    "    color = \"White\"\n",
    "    \n",
    "    #onstructor\n",
    "    def _init(self, max_speed, mileage):\n",
    "        self.max_speed = max_speed\n",
    "        self.milege = mileage\n",
    "        self.assign_seating_capacity= None\n",
    "        \n",
    "    def assign_seating_capacity(self,seating_capacity):\n",
    "        self.seating_capacity = seating_capacity"
   ]
  },
  {
   "cell_type": "code",
   "execution_count": 4,
   "id": "355a8994",
   "metadata": {},
   "outputs": [],
   "source": [
    "#Task-4. Create a method to display all the properties of an object of the class.\n",
    "class Vehicle:\n",
    "    color = \"White\"\n",
    "    \n",
    "    #constructor\n",
    "    def __init__(self, max_speed, mileage):\n",
    "        self.max_speed = max_speed\n",
    "        self.mileage = mileage\n",
    "        self.assign_seating_capacity = None\n",
    "        \n",
    "    def assign_seating_capacity(self, seating_capacity):\n",
    "        self.seating_capacity = seating_capacity\n",
    "        \n",
    "    def vehicle_properties(self):\n",
    "        print(\"The Properties of the vehicle is: \")\n",
    "        print(\"The color is : \", self.color)\n",
    "        print(\"The maximum speed is : \", self.max_speed)\n",
    "        print(\"The mileage covered is: \", self.mileage)\n",
    "        print(\"The seating capacity is: \", self.seating_capacity)"
   ]
  },
  {
   "cell_type": "code",
   "execution_count": 8,
   "id": "16c8055e",
   "metadata": {},
   "outputs": [
    {
     "name": "stdout",
     "output_type": "stream",
     "text": [
      "Properties of the Vehicle:\n",
      "Color: white\n",
      "Maximum Speed: 200\n",
      "Mileage: 20\n",
      "Seating Capacity: 5\n",
      "Properties of the Vehicle:\n",
      "Color: white\n",
      "Maximum Speed: 180\n",
      "Mileage: 25\n",
      "Seating Capacity: 4\n"
     ]
    }
   ],
   "source": [
    "#Task-5. Additionally, you need to create two objects of the Vehicle class object that should have a max speed of 200kmph and mileage of 20kmpl with five seating capacities, and another car object should have a max speed of 180kmph and mileage of 25kmpl with four seating capacities\n",
    "class Vehicle:\n",
    "    color = \"white\"\n",
    "\n",
    "    def __init__(self, max_speed, mileage):\n",
    "        self.max_speed = max_speed\n",
    "        self.mileage = mileage\n",
    "        self.seating_capacity = None\n",
    "\n",
    "    def assign_seating_capacity(self, seating_capacity):\n",
    "        self.seating_capacity = seating_capacity\n",
    "\n",
    "    def Vehicle_Properties(self):\n",
    "        print(\"Properties of the Vehicle:\")\n",
    "        print(\"Color:\", self.color)\n",
    "        print(\"Maximum Speed:\", self.max_speed)\n",
    "        print(\"Mileage:\", self.mileage)\n",
    "        print(\"Seating Capacity:\", self.seating_capacity)\n",
    "\n",
    "# Creating objects of the Vehicle class\n",
    "vehicle1 = Vehicle(200, 20)\n",
    "vehicle1.assign_seating_capacity(5)\n",
    "vehicle1.Vehicle_Properties()\n",
    "\n",
    "vehicle2 = Vehicle(180, 25)\n",
    "vehicle2.assign_seating_capacity(4)\n",
    "vehicle2.Vehicle_Properties()\n",
    "\n",
    "        "
   ]
  },
  {
   "cell_type": "code",
   "execution_count": null,
   "id": "aa215b50",
   "metadata": {},
   "outputs": [],
   "source": []
  }
 ],
 "metadata": {
  "kernelspec": {
   "display_name": "Python 3 (ipykernel)",
   "language": "python",
   "name": "python3"
  },
  "language_info": {
   "codemirror_mode": {
    "name": "ipython",
    "version": 3
   },
   "file_extension": ".py",
   "mimetype": "text/x-python",
   "name": "python",
   "nbconvert_exporter": "python",
   "pygments_lexer": "ipython3",
   "version": "3.9.12"
  }
 },
 "nbformat": 4,
 "nbformat_minor": 5
}
